{
 "cells": [
  {
   "cell_type": "code",
   "execution_count": 1,
   "metadata": {},
   "outputs": [],
   "source": [
    "import pandas as pd\n",
    "import seaborn as sns\n",
    "import matplotlib.pyplot as plt\n",
    "from sklearn.preprocessing import *\n",
    "import numpy as np\n",
    "from sklearn.model_selection import train_test_split\n",
    "\n"
   ]
  },
  {
   "cell_type": "code",
   "execution_count": 2,
   "metadata": {},
   "outputs": [
    {
     "name": "stdout",
     "output_type": "stream",
     "text": [
      "tarin accuracy: 0.8108695652173913\n",
      "test accuracy 0.8116883116883117\n",
      "0.808\n"
     ]
    }
   ],
   "source": [
    "import statsmodels.api as sn\n",
    "from sklearn.metrics import *\n",
    "data=pd.read_csv(\"C:\\\\ML\\\\loan prediction.csv\")\n",
    "\n",
    "data.isnull().sum()\n",
    "\n",
    "# for categorical missing value mode is done\n",
    "\n",
    "data['Gender'].fillna(data['Gender'].mode()[0],inplace=True)\n",
    "data['Married'].fillna(data['Married'].mode()[0],inplace=True)\n",
    "data['Dependents'].fillna(data['Dependents'].mode()[0],inplace=True)\n",
    "data['Self_Employed'].fillna(data['Self_Employed'].mode()[0],inplace=True)\n",
    "data['Credit_History'].fillna(data['Credit_History'].mode()[0],inplace=True)\n",
    "data['Loan_Amount_Term'].fillna(data['Loan_Amount_Term'].mode()[0],inplace=True)\n",
    "\n",
    "# for numerical mean and median is done\n",
    "\n",
    "data['LoanAmount'].fillna(data['LoanAmount'].median(),inplace=True)\n",
    "\n",
    "data.isnull().sum()\n",
    "\n",
    "# dummy variable\n",
    "\n",
    "data1=data.iloc[:,1:-1]\n",
    "data1=pd.get_dummies(data1,columns=['Gender','Married','Dependents','Education','Self_Employed','Credit_History','Property_Area'],drop_first=True)\n",
    "\n",
    "x=data1.values\n",
    "y=data.iloc[:,-1]\n",
    "\n",
    "x_train,x_test,y_train,y_test=train_test_split(x,y,test_size=0.25,random_state=10)\n",
    "\n",
    "from sklearn.ensemble import RandomForestClassifier\n",
    "clf=RandomForestClassifier(n_estimators=100,max_depth=3,min_samples_leaf=5,random_state=10)  # automatically criterion=Gini , you can use criterion = entropy also\n",
    "clf.fit(x_train,y_train)\n",
    "\n",
    "y_pred=clf.predict(x_test)\n",
    "print(\"tarin accuracy:\" ,clf.score(x_train,y_train))\n",
    "print(\"test accuracy\", clf.score(x_test,y_test))\n",
    "\n",
    "# confusion matrix\n",
    "cm=confusion_matrix(y_test,y_pred,labels=['Y','N'])\n",
    "cm\n",
    "\n",
    "\n",
    "#crossvalidation\n",
    "\n",
    "from sklearn.model_selection import cross_val_score\n",
    "accuracy=cross_val_score(clf,x,y,cv=10)\n",
    "print(round(accuracy.mean(),3))\n",
    "\n",
    "\n",
    "# Gridsearch\n",
    "\n"
   ]
  },
  {
   "cell_type": "code",
   "execution_count": 3,
   "metadata": {},
   "outputs": [],
   "source": [
    "from sklearn.model_selection import GridSearchCV\n",
    "Param_Grid={\n",
    "    'n_estimators':[50,100,200],\n",
    "    'max_depth':[3,5,7],\n",
    "    'min_samples_leaf':[2,5,10]}\n"
   ]
  },
  {
   "cell_type": "code",
   "execution_count": 4,
   "metadata": {},
   "outputs": [
    {
     "data": {
      "text/plain": [
       "GridSearchCV(cv=5, error_score=nan,\n",
       "             estimator=RandomForestClassifier(bootstrap=True, ccp_alpha=0.0,\n",
       "                                              class_weight=None,\n",
       "                                              criterion='gini', max_depth=3,\n",
       "                                              max_features='auto',\n",
       "                                              max_leaf_nodes=None,\n",
       "                                              max_samples=None,\n",
       "                                              min_impurity_decrease=0.0,\n",
       "                                              min_impurity_split=None,\n",
       "                                              min_samples_leaf=5,\n",
       "                                              min_samples_split=2,\n",
       "                                              min_weight_fraction_leaf=0.0,\n",
       "                                              n_estimators=100, n_jobs=None,\n",
       "                                              oob_score=False, random_state=10,\n",
       "                                              verbose=0, warm_start=False),\n",
       "             iid='deprecated', n_jobs=None,\n",
       "             param_grid={'max_depth': [3, 5, 7], 'min_samples_leaf': [2, 5, 10],\n",
       "                         'n_estimators': [50, 100, 200]},\n",
       "             pre_dispatch='2*n_jobs', refit=True, return_train_score=False,\n",
       "             scoring=None, verbose=0)"
      ]
     },
     "execution_count": 4,
     "metadata": {},
     "output_type": "execute_result"
    }
   ],
   "source": [
    "CV_rfc=GridSearchCV(estimator=clf, param_grid=Param_Grid, cv=5)\n",
    "CV_rfc.fit(x_train,y_train)\n"
   ]
  },
  {
   "cell_type": "code",
   "execution_count": 5,
   "metadata": {},
   "outputs": [
    {
     "name": "stdout",
     "output_type": "stream",
     "text": [
      "0.81087\n",
      "testing accuracy: 0.7987012987012987\n",
      "{'max_depth': 7, 'min_samples_leaf': 2, 'n_estimators': 50}\n"
     ]
    }
   ],
   "source": [
    "print(CV_rfc.best_score_.round(5))\n",
    "y_pred=CV_rfc.predict(x_test)\n",
    "print(\"testing accuracy:\",CV_rfc.score(x_test,y_test))\n",
    "print(CV_rfc.best_params_)\n",
    "\n"
   ]
  },
  {
   "cell_type": "code",
   "execution_count": 6,
   "metadata": {},
   "outputs": [
    {
     "data": {
      "image/png": "[encoded data removed]",
      "text/plain": [
       "<Figure size 432x288 with 1 Axes>"
      ]
     },
     "metadata": {
      "needs_background": "light"
     },
     "output_type": "display_data"
    }
   ],
   "source": [
    "# Feature importance\n",
    "import numpy as np\n",
    "n_feature=data1.shape[1]\n",
    "plt.barh(range(n_feature),clf.feature_importances_,align='center')\n",
    "plt.yticks(np.arange(n_feature),data1.columns)\n",
    "plt.xlabel('feature importance')\n",
    "plt.ylabel('feature')\n",
    "plt.tight_layout()\n",
    "\n"
   ]
  },
  {
   "cell_type": "code",
   "execution_count": 7,
   "metadata": {},
   "outputs": [
    {
     "name": "stdout",
     "output_type": "stream",
     "text": [
      "[(0.5, 'Credit_History_1.0'), (0.11, 'ApplicantIncome'), (0.09, 'LoanAmount'), (0.08, 'Property_Area_Semiurban'), (0.07, 'CoapplicantIncome'), (0.04, 'Loan_Amount_Term'), (0.03, 'Education_Not Graduate'), (0.02, 'Property_Area_Urban'), (0.02, 'Married_Yes'), (0.01, 'Gender_Male'), (0.01, 'Dependents_2'), (0.01, 'Dependents_1'), (0.0, 'Self_Employed_Yes'), (0.0, 'Dependents_3+')]\n"
     ]
    }
   ],
   "source": [
    "imp=list(zip(np.round(clf.feature_importances_,2),data1.columns))\n",
    "imp.sort(reverse=True)\n",
    "print(imp)"
   ]
  },
  {
   "cell_type": "code",
   "execution_count": null,
   "metadata": {},
   "outputs": [],
   "source": []
  }
 ],
 "metadata": {
  "kernelspec": {
   "display_name": "Python 3",
   "language": "python",
   "name": "python3"
  },
  "language_info": {
   "codemirror_mode": {
    "name": "ipython",
    "version": 3
   },
   "file_extension": ".py",
   "mimetype": "text/x-python",
   "name": "python",
   "nbconvert_exporter": "python",
   "pygments_lexer": "ipython3",
   "version": "3.7.6"
  }
 },
 "nbformat": 4,
 "nbformat_minor": 4
}
